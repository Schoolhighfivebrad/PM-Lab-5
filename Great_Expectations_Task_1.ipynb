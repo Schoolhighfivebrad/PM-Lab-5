{
  "nbformat": 4,
  "nbformat_minor": 0,
  "metadata": {
    "colab": {
      "provenance": []
    },
    "kernelspec": {
      "name": "python3",
      "display_name": "Python 3"
    },
    "language_info": {
      "name": "python"
    },
    "widgets": {
      "application/vnd.jupyter.widget-state+json": {
        "b6aebc623c6a4420a105b7db241ddf8e": {
          "model_module": "@jupyter-widgets/controls",
          "model_name": "HBoxModel",
          "model_module_version": "1.5.0",
          "state": {
            "_dom_classes": [],
            "_model_module": "@jupyter-widgets/controls",
            "_model_module_version": "1.5.0",
            "_model_name": "HBoxModel",
            "_view_count": null,
            "_view_module": "@jupyter-widgets/controls",
            "_view_module_version": "1.5.0",
            "_view_name": "HBoxView",
            "box_style": "",
            "children": [
              "IPY_MODEL_68713c55ab574673ace34576a7670db4",
              "IPY_MODEL_4ae2250e31124dd4b64de3de9c8b0f66",
              "IPY_MODEL_3aa71d9dd1744d0cae4d7f6de0fbc075"
            ],
            "layout": "IPY_MODEL_e0728c7dbc8646eb88ae3bc9144311ac"
          }
        },
        "68713c55ab574673ace34576a7670db4": {
          "model_module": "@jupyter-widgets/controls",
          "model_name": "HTMLModel",
          "model_module_version": "1.5.0",
          "state": {
            "_dom_classes": [],
            "_model_module": "@jupyter-widgets/controls",
            "_model_module_version": "1.5.0",
            "_model_name": "HTMLModel",
            "_view_count": null,
            "_view_module": "@jupyter-widgets/controls",
            "_view_module_version": "1.5.0",
            "_view_name": "HTMLView",
            "description": "",
            "description_tooltip": null,
            "layout": "IPY_MODEL_206bdd6dbee24df3bf67db77367d76f3",
            "placeholder": "​",
            "style": "IPY_MODEL_ab65d81683c947cab96a88f5521cc192",
            "value": "Calculating Metrics: 100%"
          }
        },
        "4ae2250e31124dd4b64de3de9c8b0f66": {
          "model_module": "@jupyter-widgets/controls",
          "model_name": "FloatProgressModel",
          "model_module_version": "1.5.0",
          "state": {
            "_dom_classes": [],
            "_model_module": "@jupyter-widgets/controls",
            "_model_module_version": "1.5.0",
            "_model_name": "FloatProgressModel",
            "_view_count": null,
            "_view_module": "@jupyter-widgets/controls",
            "_view_module_version": "1.5.0",
            "_view_name": "ProgressView",
            "bar_style": "success",
            "description": "",
            "description_tooltip": null,
            "layout": "IPY_MODEL_87dcac2711f8415890e21bd2d8913f99",
            "max": 2,
            "min": 0,
            "orientation": "horizontal",
            "style": "IPY_MODEL_e1844ee2a1114a88aed8a5d17196c4ee",
            "value": 2
          }
        },
        "3aa71d9dd1744d0cae4d7f6de0fbc075": {
          "model_module": "@jupyter-widgets/controls",
          "model_name": "HTMLModel",
          "model_module_version": "1.5.0",
          "state": {
            "_dom_classes": [],
            "_model_module": "@jupyter-widgets/controls",
            "_model_module_version": "1.5.0",
            "_model_name": "HTMLModel",
            "_view_count": null,
            "_view_module": "@jupyter-widgets/controls",
            "_view_module_version": "1.5.0",
            "_view_name": "HTMLView",
            "description": "",
            "description_tooltip": null,
            "layout": "IPY_MODEL_cbbe453c994c48e79400c347d2c9f27e",
            "placeholder": "​",
            "style": "IPY_MODEL_a359c84dea9840c4aa987140fb0ced00",
            "value": " 2/2 [00:00&lt;00:00, 59.84it/s]"
          }
        },
        "e0728c7dbc8646eb88ae3bc9144311ac": {
          "model_module": "@jupyter-widgets/base",
          "model_name": "LayoutModel",
          "model_module_version": "1.2.0",
          "state": {
            "_model_module": "@jupyter-widgets/base",
            "_model_module_version": "1.2.0",
            "_model_name": "LayoutModel",
            "_view_count": null,
            "_view_module": "@jupyter-widgets/base",
            "_view_module_version": "1.2.0",
            "_view_name": "LayoutView",
            "align_content": null,
            "align_items": null,
            "align_self": null,
            "border": null,
            "bottom": null,
            "display": null,
            "flex": null,
            "flex_flow": null,
            "grid_area": null,
            "grid_auto_columns": null,
            "grid_auto_flow": null,
            "grid_auto_rows": null,
            "grid_column": null,
            "grid_gap": null,
            "grid_row": null,
            "grid_template_areas": null,
            "grid_template_columns": null,
            "grid_template_rows": null,
            "height": null,
            "justify_content": null,
            "justify_items": null,
            "left": null,
            "margin": null,
            "max_height": null,
            "max_width": null,
            "min_height": null,
            "min_width": null,
            "object_fit": null,
            "object_position": null,
            "order": null,
            "overflow": null,
            "overflow_x": null,
            "overflow_y": null,
            "padding": null,
            "right": null,
            "top": null,
            "visibility": null,
            "width": null
          }
        },
        "206bdd6dbee24df3bf67db77367d76f3": {
          "model_module": "@jupyter-widgets/base",
          "model_name": "LayoutModel",
          "model_module_version": "1.2.0",
          "state": {
            "_model_module": "@jupyter-widgets/base",
            "_model_module_version": "1.2.0",
            "_model_name": "LayoutModel",
            "_view_count": null,
            "_view_module": "@jupyter-widgets/base",
            "_view_module_version": "1.2.0",
            "_view_name": "LayoutView",
            "align_content": null,
            "align_items": null,
            "align_self": null,
            "border": null,
            "bottom": null,
            "display": null,
            "flex": null,
            "flex_flow": null,
            "grid_area": null,
            "grid_auto_columns": null,
            "grid_auto_flow": null,
            "grid_auto_rows": null,
            "grid_column": null,
            "grid_gap": null,
            "grid_row": null,
            "grid_template_areas": null,
            "grid_template_columns": null,
            "grid_template_rows": null,
            "height": null,
            "justify_content": null,
            "justify_items": null,
            "left": null,
            "margin": null,
            "max_height": null,
            "max_width": null,
            "min_height": null,
            "min_width": null,
            "object_fit": null,
            "object_position": null,
            "order": null,
            "overflow": null,
            "overflow_x": null,
            "overflow_y": null,
            "padding": null,
            "right": null,
            "top": null,
            "visibility": null,
            "width": null
          }
        },
        "ab65d81683c947cab96a88f5521cc192": {
          "model_module": "@jupyter-widgets/controls",
          "model_name": "DescriptionStyleModel",
          "model_module_version": "1.5.0",
          "state": {
            "_model_module": "@jupyter-widgets/controls",
            "_model_module_version": "1.5.0",
            "_model_name": "DescriptionStyleModel",
            "_view_count": null,
            "_view_module": "@jupyter-widgets/base",
            "_view_module_version": "1.2.0",
            "_view_name": "StyleView",
            "description_width": ""
          }
        },
        "87dcac2711f8415890e21bd2d8913f99": {
          "model_module": "@jupyter-widgets/base",
          "model_name": "LayoutModel",
          "model_module_version": "1.2.0",
          "state": {
            "_model_module": "@jupyter-widgets/base",
            "_model_module_version": "1.2.0",
            "_model_name": "LayoutModel",
            "_view_count": null,
            "_view_module": "@jupyter-widgets/base",
            "_view_module_version": "1.2.0",
            "_view_name": "LayoutView",
            "align_content": null,
            "align_items": null,
            "align_self": null,
            "border": null,
            "bottom": null,
            "display": null,
            "flex": null,
            "flex_flow": null,
            "grid_area": null,
            "grid_auto_columns": null,
            "grid_auto_flow": null,
            "grid_auto_rows": null,
            "grid_column": null,
            "grid_gap": null,
            "grid_row": null,
            "grid_template_areas": null,
            "grid_template_columns": null,
            "grid_template_rows": null,
            "height": null,
            "justify_content": null,
            "justify_items": null,
            "left": null,
            "margin": null,
            "max_height": null,
            "max_width": null,
            "min_height": null,
            "min_width": null,
            "object_fit": null,
            "object_position": null,
            "order": null,
            "overflow": null,
            "overflow_x": null,
            "overflow_y": null,
            "padding": null,
            "right": null,
            "top": null,
            "visibility": null,
            "width": null
          }
        },
        "e1844ee2a1114a88aed8a5d17196c4ee": {
          "model_module": "@jupyter-widgets/controls",
          "model_name": "ProgressStyleModel",
          "model_module_version": "1.5.0",
          "state": {
            "_model_module": "@jupyter-widgets/controls",
            "_model_module_version": "1.5.0",
            "_model_name": "ProgressStyleModel",
            "_view_count": null,
            "_view_module": "@jupyter-widgets/base",
            "_view_module_version": "1.2.0",
            "_view_name": "StyleView",
            "bar_color": null,
            "description_width": ""
          }
        },
        "cbbe453c994c48e79400c347d2c9f27e": {
          "model_module": "@jupyter-widgets/base",
          "model_name": "LayoutModel",
          "model_module_version": "1.2.0",
          "state": {
            "_model_module": "@jupyter-widgets/base",
            "_model_module_version": "1.2.0",
            "_model_name": "LayoutModel",
            "_view_count": null,
            "_view_module": "@jupyter-widgets/base",
            "_view_module_version": "1.2.0",
            "_view_name": "LayoutView",
            "align_content": null,
            "align_items": null,
            "align_self": null,
            "border": null,
            "bottom": null,
            "display": null,
            "flex": null,
            "flex_flow": null,
            "grid_area": null,
            "grid_auto_columns": null,
            "grid_auto_flow": null,
            "grid_auto_rows": null,
            "grid_column": null,
            "grid_gap": null,
            "grid_row": null,
            "grid_template_areas": null,
            "grid_template_columns": null,
            "grid_template_rows": null,
            "height": null,
            "justify_content": null,
            "justify_items": null,
            "left": null,
            "margin": null,
            "max_height": null,
            "max_width": null,
            "min_height": null,
            "min_width": null,
            "object_fit": null,
            "object_position": null,
            "order": null,
            "overflow": null,
            "overflow_x": null,
            "overflow_y": null,
            "padding": null,
            "right": null,
            "top": null,
            "visibility": null,
            "width": null
          }
        },
        "a359c84dea9840c4aa987140fb0ced00": {
          "model_module": "@jupyter-widgets/controls",
          "model_name": "DescriptionStyleModel",
          "model_module_version": "1.5.0",
          "state": {
            "_model_module": "@jupyter-widgets/controls",
            "_model_module_version": "1.5.0",
            "_model_name": "DescriptionStyleModel",
            "_view_count": null,
            "_view_module": "@jupyter-widgets/base",
            "_view_module_version": "1.2.0",
            "_view_name": "StyleView",
            "description_width": ""
          }
        },
        "cd3b930756fd4becaab6f3f5b11e210a": {
          "model_module": "@jupyter-widgets/controls",
          "model_name": "HBoxModel",
          "model_module_version": "1.5.0",
          "state": {
            "_dom_classes": [],
            "_model_module": "@jupyter-widgets/controls",
            "_model_module_version": "1.5.0",
            "_model_name": "HBoxModel",
            "_view_count": null,
            "_view_module": "@jupyter-widgets/controls",
            "_view_module_version": "1.5.0",
            "_view_name": "HBoxView",
            "box_style": "",
            "children": [
              "IPY_MODEL_12194eeb4058454a8043ef7546c07fe2",
              "IPY_MODEL_c3e0fb197ef5418091ee626bff386867",
              "IPY_MODEL_dfed61e5041f4ee2af832b80354123da"
            ],
            "layout": "IPY_MODEL_7a8c036673b6482cbbe5c5e234a2dc8d"
          }
        },
        "12194eeb4058454a8043ef7546c07fe2": {
          "model_module": "@jupyter-widgets/controls",
          "model_name": "HTMLModel",
          "model_module_version": "1.5.0",
          "state": {
            "_dom_classes": [],
            "_model_module": "@jupyter-widgets/controls",
            "_model_module_version": "1.5.0",
            "_model_name": "HTMLModel",
            "_view_count": null,
            "_view_module": "@jupyter-widgets/controls",
            "_view_module_version": "1.5.0",
            "_view_name": "HTMLView",
            "description": "",
            "description_tooltip": null,
            "layout": "IPY_MODEL_9ce956100b2141ae894ba1f89fb499bf",
            "placeholder": "​",
            "style": "IPY_MODEL_07757568386a4ae78e5929f87dbd3c36",
            "value": "Calculating Metrics: 100%"
          }
        },
        "c3e0fb197ef5418091ee626bff386867": {
          "model_module": "@jupyter-widgets/controls",
          "model_name": "FloatProgressModel",
          "model_module_version": "1.5.0",
          "state": {
            "_dom_classes": [],
            "_model_module": "@jupyter-widgets/controls",
            "_model_module_version": "1.5.0",
            "_model_name": "FloatProgressModel",
            "_view_count": null,
            "_view_module": "@jupyter-widgets/controls",
            "_view_module_version": "1.5.0",
            "_view_name": "ProgressView",
            "bar_style": "success",
            "description": "",
            "description_tooltip": null,
            "layout": "IPY_MODEL_87571714ccec4ec2a8ae9a3788fd5dd5",
            "max": 11,
            "min": 0,
            "orientation": "horizontal",
            "style": "IPY_MODEL_66d001e9394b4eaa80caf310dfc5bee4",
            "value": 11
          }
        },
        "dfed61e5041f4ee2af832b80354123da": {
          "model_module": "@jupyter-widgets/controls",
          "model_name": "HTMLModel",
          "model_module_version": "1.5.0",
          "state": {
            "_dom_classes": [],
            "_model_module": "@jupyter-widgets/controls",
            "_model_module_version": "1.5.0",
            "_model_name": "HTMLModel",
            "_view_count": null,
            "_view_module": "@jupyter-widgets/controls",
            "_view_module_version": "1.5.0",
            "_view_name": "HTMLView",
            "description": "",
            "description_tooltip": null,
            "layout": "IPY_MODEL_5ec10a769f664d57a8dd3d9bc18bbd57",
            "placeholder": "​",
            "style": "IPY_MODEL_2545f78ddd1f44598981bd2571a4771f",
            "value": " 11/11 [00:00&lt;00:00, 268.69it/s]"
          }
        },
        "7a8c036673b6482cbbe5c5e234a2dc8d": {
          "model_module": "@jupyter-widgets/base",
          "model_name": "LayoutModel",
          "model_module_version": "1.2.0",
          "state": {
            "_model_module": "@jupyter-widgets/base",
            "_model_module_version": "1.2.0",
            "_model_name": "LayoutModel",
            "_view_count": null,
            "_view_module": "@jupyter-widgets/base",
            "_view_module_version": "1.2.0",
            "_view_name": "LayoutView",
            "align_content": null,
            "align_items": null,
            "align_self": null,
            "border": null,
            "bottom": null,
            "display": null,
            "flex": null,
            "flex_flow": null,
            "grid_area": null,
            "grid_auto_columns": null,
            "grid_auto_flow": null,
            "grid_auto_rows": null,
            "grid_column": null,
            "grid_gap": null,
            "grid_row": null,
            "grid_template_areas": null,
            "grid_template_columns": null,
            "grid_template_rows": null,
            "height": null,
            "justify_content": null,
            "justify_items": null,
            "left": null,
            "margin": null,
            "max_height": null,
            "max_width": null,
            "min_height": null,
            "min_width": null,
            "object_fit": null,
            "object_position": null,
            "order": null,
            "overflow": null,
            "overflow_x": null,
            "overflow_y": null,
            "padding": null,
            "right": null,
            "top": null,
            "visibility": null,
            "width": null
          }
        },
        "9ce956100b2141ae894ba1f89fb499bf": {
          "model_module": "@jupyter-widgets/base",
          "model_name": "LayoutModel",
          "model_module_version": "1.2.0",
          "state": {
            "_model_module": "@jupyter-widgets/base",
            "_model_module_version": "1.2.0",
            "_model_name": "LayoutModel",
            "_view_count": null,
            "_view_module": "@jupyter-widgets/base",
            "_view_module_version": "1.2.0",
            "_view_name": "LayoutView",
            "align_content": null,
            "align_items": null,
            "align_self": null,
            "border": null,
            "bottom": null,
            "display": null,
            "flex": null,
            "flex_flow": null,
            "grid_area": null,
            "grid_auto_columns": null,
            "grid_auto_flow": null,
            "grid_auto_rows": null,
            "grid_column": null,
            "grid_gap": null,
            "grid_row": null,
            "grid_template_areas": null,
            "grid_template_columns": null,
            "grid_template_rows": null,
            "height": null,
            "justify_content": null,
            "justify_items": null,
            "left": null,
            "margin": null,
            "max_height": null,
            "max_width": null,
            "min_height": null,
            "min_width": null,
            "object_fit": null,
            "object_position": null,
            "order": null,
            "overflow": null,
            "overflow_x": null,
            "overflow_y": null,
            "padding": null,
            "right": null,
            "top": null,
            "visibility": null,
            "width": null
          }
        },
        "07757568386a4ae78e5929f87dbd3c36": {
          "model_module": "@jupyter-widgets/controls",
          "model_name": "DescriptionStyleModel",
          "model_module_version": "1.5.0",
          "state": {
            "_model_module": "@jupyter-widgets/controls",
            "_model_module_version": "1.5.0",
            "_model_name": "DescriptionStyleModel",
            "_view_count": null,
            "_view_module": "@jupyter-widgets/base",
            "_view_module_version": "1.2.0",
            "_view_name": "StyleView",
            "description_width": ""
          }
        },
        "87571714ccec4ec2a8ae9a3788fd5dd5": {
          "model_module": "@jupyter-widgets/base",
          "model_name": "LayoutModel",
          "model_module_version": "1.2.0",
          "state": {
            "_model_module": "@jupyter-widgets/base",
            "_model_module_version": "1.2.0",
            "_model_name": "LayoutModel",
            "_view_count": null,
            "_view_module": "@jupyter-widgets/base",
            "_view_module_version": "1.2.0",
            "_view_name": "LayoutView",
            "align_content": null,
            "align_items": null,
            "align_self": null,
            "border": null,
            "bottom": null,
            "display": null,
            "flex": null,
            "flex_flow": null,
            "grid_area": null,
            "grid_auto_columns": null,
            "grid_auto_flow": null,
            "grid_auto_rows": null,
            "grid_column": null,
            "grid_gap": null,
            "grid_row": null,
            "grid_template_areas": null,
            "grid_template_columns": null,
            "grid_template_rows": null,
            "height": null,
            "justify_content": null,
            "justify_items": null,
            "left": null,
            "margin": null,
            "max_height": null,
            "max_width": null,
            "min_height": null,
            "min_width": null,
            "object_fit": null,
            "object_position": null,
            "order": null,
            "overflow": null,
            "overflow_x": null,
            "overflow_y": null,
            "padding": null,
            "right": null,
            "top": null,
            "visibility": null,
            "width": null
          }
        },
        "66d001e9394b4eaa80caf310dfc5bee4": {
          "model_module": "@jupyter-widgets/controls",
          "model_name": "ProgressStyleModel",
          "model_module_version": "1.5.0",
          "state": {
            "_model_module": "@jupyter-widgets/controls",
            "_model_module_version": "1.5.0",
            "_model_name": "ProgressStyleModel",
            "_view_count": null,
            "_view_module": "@jupyter-widgets/base",
            "_view_module_version": "1.2.0",
            "_view_name": "StyleView",
            "bar_color": null,
            "description_width": ""
          }
        },
        "5ec10a769f664d57a8dd3d9bc18bbd57": {
          "model_module": "@jupyter-widgets/base",
          "model_name": "LayoutModel",
          "model_module_version": "1.2.0",
          "state": {
            "_model_module": "@jupyter-widgets/base",
            "_model_module_version": "1.2.0",
            "_model_name": "LayoutModel",
            "_view_count": null,
            "_view_module": "@jupyter-widgets/base",
            "_view_module_version": "1.2.0",
            "_view_name": "LayoutView",
            "align_content": null,
            "align_items": null,
            "align_self": null,
            "border": null,
            "bottom": null,
            "display": null,
            "flex": null,
            "flex_flow": null,
            "grid_area": null,
            "grid_auto_columns": null,
            "grid_auto_flow": null,
            "grid_auto_rows": null,
            "grid_column": null,
            "grid_gap": null,
            "grid_row": null,
            "grid_template_areas": null,
            "grid_template_columns": null,
            "grid_template_rows": null,
            "height": null,
            "justify_content": null,
            "justify_items": null,
            "left": null,
            "margin": null,
            "max_height": null,
            "max_width": null,
            "min_height": null,
            "min_width": null,
            "object_fit": null,
            "object_position": null,
            "order": null,
            "overflow": null,
            "overflow_x": null,
            "overflow_y": null,
            "padding": null,
            "right": null,
            "top": null,
            "visibility": null,
            "width": null
          }
        },
        "2545f78ddd1f44598981bd2571a4771f": {
          "model_module": "@jupyter-widgets/controls",
          "model_name": "DescriptionStyleModel",
          "model_module_version": "1.5.0",
          "state": {
            "_model_module": "@jupyter-widgets/controls",
            "_model_module_version": "1.5.0",
            "_model_name": "DescriptionStyleModel",
            "_view_count": null,
            "_view_module": "@jupyter-widgets/base",
            "_view_module_version": "1.2.0",
            "_view_name": "StyleView",
            "description_width": ""
          }
        },
        "7265df1c7c204361bff5e49033d62404": {
          "model_module": "@jupyter-widgets/controls",
          "model_name": "HBoxModel",
          "model_module_version": "1.5.0",
          "state": {
            "_dom_classes": [],
            "_model_module": "@jupyter-widgets/controls",
            "_model_module_version": "1.5.0",
            "_model_name": "HBoxModel",
            "_view_count": null,
            "_view_module": "@jupyter-widgets/controls",
            "_view_module_version": "1.5.0",
            "_view_name": "HBoxView",
            "box_style": "",
            "children": [
              "IPY_MODEL_ef7c4d7fdb40497ab54fba19761bbda3",
              "IPY_MODEL_86cbcea08b00465284579886064513e0",
              "IPY_MODEL_254509bfbb134ddfb51b5d47e5227b14"
            ],
            "layout": "IPY_MODEL_fd890b210dda4ef1b9eab890cd150641"
          }
        },
        "ef7c4d7fdb40497ab54fba19761bbda3": {
          "model_module": "@jupyter-widgets/controls",
          "model_name": "HTMLModel",
          "model_module_version": "1.5.0",
          "state": {
            "_dom_classes": [],
            "_model_module": "@jupyter-widgets/controls",
            "_model_module_version": "1.5.0",
            "_model_name": "HTMLModel",
            "_view_count": null,
            "_view_module": "@jupyter-widgets/controls",
            "_view_module_version": "1.5.0",
            "_view_name": "HTMLView",
            "description": "",
            "description_tooltip": null,
            "layout": "IPY_MODEL_09b825734dc443cf959ba699049c6f02",
            "placeholder": "​",
            "style": "IPY_MODEL_84f9a9694b3048898b0addb6c6a67fed",
            "value": "Calculating Metrics: 100%"
          }
        },
        "86cbcea08b00465284579886064513e0": {
          "model_module": "@jupyter-widgets/controls",
          "model_name": "FloatProgressModel",
          "model_module_version": "1.5.0",
          "state": {
            "_dom_classes": [],
            "_model_module": "@jupyter-widgets/controls",
            "_model_module_version": "1.5.0",
            "_model_name": "FloatProgressModel",
            "_view_count": null,
            "_view_module": "@jupyter-widgets/controls",
            "_view_module_version": "1.5.0",
            "_view_name": "ProgressView",
            "bar_style": "success",
            "description": "",
            "description_tooltip": null,
            "layout": "IPY_MODEL_cc63e2053e614dcd9e57eb6718e35819",
            "max": 8,
            "min": 0,
            "orientation": "horizontal",
            "style": "IPY_MODEL_2acce33328cd4041bbaab8f0e9745389",
            "value": 8
          }
        },
        "254509bfbb134ddfb51b5d47e5227b14": {
          "model_module": "@jupyter-widgets/controls",
          "model_name": "HTMLModel",
          "model_module_version": "1.5.0",
          "state": {
            "_dom_classes": [],
            "_model_module": "@jupyter-widgets/controls",
            "_model_module_version": "1.5.0",
            "_model_name": "HTMLModel",
            "_view_count": null,
            "_view_module": "@jupyter-widgets/controls",
            "_view_module_version": "1.5.0",
            "_view_name": "HTMLView",
            "description": "",
            "description_tooltip": null,
            "layout": "IPY_MODEL_7bea6a4997b04271824a99157d94b59a",
            "placeholder": "​",
            "style": "IPY_MODEL_c002bb8a3d314563a948b6efc5ebf093",
            "value": " 8/8 [00:00&lt;00:00, 258.41it/s]"
          }
        },
        "fd890b210dda4ef1b9eab890cd150641": {
          "model_module": "@jupyter-widgets/base",
          "model_name": "LayoutModel",
          "model_module_version": "1.2.0",
          "state": {
            "_model_module": "@jupyter-widgets/base",
            "_model_module_version": "1.2.0",
            "_model_name": "LayoutModel",
            "_view_count": null,
            "_view_module": "@jupyter-widgets/base",
            "_view_module_version": "1.2.0",
            "_view_name": "LayoutView",
            "align_content": null,
            "align_items": null,
            "align_self": null,
            "border": null,
            "bottom": null,
            "display": null,
            "flex": null,
            "flex_flow": null,
            "grid_area": null,
            "grid_auto_columns": null,
            "grid_auto_flow": null,
            "grid_auto_rows": null,
            "grid_column": null,
            "grid_gap": null,
            "grid_row": null,
            "grid_template_areas": null,
            "grid_template_columns": null,
            "grid_template_rows": null,
            "height": null,
            "justify_content": null,
            "justify_items": null,
            "left": null,
            "margin": null,
            "max_height": null,
            "max_width": null,
            "min_height": null,
            "min_width": null,
            "object_fit": null,
            "object_position": null,
            "order": null,
            "overflow": null,
            "overflow_x": null,
            "overflow_y": null,
            "padding": null,
            "right": null,
            "top": null,
            "visibility": null,
            "width": null
          }
        },
        "09b825734dc443cf959ba699049c6f02": {
          "model_module": "@jupyter-widgets/base",
          "model_name": "LayoutModel",
          "model_module_version": "1.2.0",
          "state": {
            "_model_module": "@jupyter-widgets/base",
            "_model_module_version": "1.2.0",
            "_model_name": "LayoutModel",
            "_view_count": null,
            "_view_module": "@jupyter-widgets/base",
            "_view_module_version": "1.2.0",
            "_view_name": "LayoutView",
            "align_content": null,
            "align_items": null,
            "align_self": null,
            "border": null,
            "bottom": null,
            "display": null,
            "flex": null,
            "flex_flow": null,
            "grid_area": null,
            "grid_auto_columns": null,
            "grid_auto_flow": null,
            "grid_auto_rows": null,
            "grid_column": null,
            "grid_gap": null,
            "grid_row": null,
            "grid_template_areas": null,
            "grid_template_columns": null,
            "grid_template_rows": null,
            "height": null,
            "justify_content": null,
            "justify_items": null,
            "left": null,
            "margin": null,
            "max_height": null,
            "max_width": null,
            "min_height": null,
            "min_width": null,
            "object_fit": null,
            "object_position": null,
            "order": null,
            "overflow": null,
            "overflow_x": null,
            "overflow_y": null,
            "padding": null,
            "right": null,
            "top": null,
            "visibility": null,
            "width": null
          }
        },
        "84f9a9694b3048898b0addb6c6a67fed": {
          "model_module": "@jupyter-widgets/controls",
          "model_name": "DescriptionStyleModel",
          "model_module_version": "1.5.0",
          "state": {
            "_model_module": "@jupyter-widgets/controls",
            "_model_module_version": "1.5.0",
            "_model_name": "DescriptionStyleModel",
            "_view_count": null,
            "_view_module": "@jupyter-widgets/base",
            "_view_module_version": "1.2.0",
            "_view_name": "StyleView",
            "description_width": ""
          }
        },
        "cc63e2053e614dcd9e57eb6718e35819": {
          "model_module": "@jupyter-widgets/base",
          "model_name": "LayoutModel",
          "model_module_version": "1.2.0",
          "state": {
            "_model_module": "@jupyter-widgets/base",
            "_model_module_version": "1.2.0",
            "_model_name": "LayoutModel",
            "_view_count": null,
            "_view_module": "@jupyter-widgets/base",
            "_view_module_version": "1.2.0",
            "_view_name": "LayoutView",
            "align_content": null,
            "align_items": null,
            "align_self": null,
            "border": null,
            "bottom": null,
            "display": null,
            "flex": null,
            "flex_flow": null,
            "grid_area": null,
            "grid_auto_columns": null,
            "grid_auto_flow": null,
            "grid_auto_rows": null,
            "grid_column": null,
            "grid_gap": null,
            "grid_row": null,
            "grid_template_areas": null,
            "grid_template_columns": null,
            "grid_template_rows": null,
            "height": null,
            "justify_content": null,
            "justify_items": null,
            "left": null,
            "margin": null,
            "max_height": null,
            "max_width": null,
            "min_height": null,
            "min_width": null,
            "object_fit": null,
            "object_position": null,
            "order": null,
            "overflow": null,
            "overflow_x": null,
            "overflow_y": null,
            "padding": null,
            "right": null,
            "top": null,
            "visibility": null,
            "width": null
          }
        },
        "2acce33328cd4041bbaab8f0e9745389": {
          "model_module": "@jupyter-widgets/controls",
          "model_name": "ProgressStyleModel",
          "model_module_version": "1.5.0",
          "state": {
            "_model_module": "@jupyter-widgets/controls",
            "_model_module_version": "1.5.0",
            "_model_name": "ProgressStyleModel",
            "_view_count": null,
            "_view_module": "@jupyter-widgets/base",
            "_view_module_version": "1.2.0",
            "_view_name": "StyleView",
            "bar_color": null,
            "description_width": ""
          }
        },
        "7bea6a4997b04271824a99157d94b59a": {
          "model_module": "@jupyter-widgets/base",
          "model_name": "LayoutModel",
          "model_module_version": "1.2.0",
          "state": {
            "_model_module": "@jupyter-widgets/base",
            "_model_module_version": "1.2.0",
            "_model_name": "LayoutModel",
            "_view_count": null,
            "_view_module": "@jupyter-widgets/base",
            "_view_module_version": "1.2.0",
            "_view_name": "LayoutView",
            "align_content": null,
            "align_items": null,
            "align_self": null,
            "border": null,
            "bottom": null,
            "display": null,
            "flex": null,
            "flex_flow": null,
            "grid_area": null,
            "grid_auto_columns": null,
            "grid_auto_flow": null,
            "grid_auto_rows": null,
            "grid_column": null,
            "grid_gap": null,
            "grid_row": null,
            "grid_template_areas": null,
            "grid_template_columns": null,
            "grid_template_rows": null,
            "height": null,
            "justify_content": null,
            "justify_items": null,
            "left": null,
            "margin": null,
            "max_height": null,
            "max_width": null,
            "min_height": null,
            "min_width": null,
            "object_fit": null,
            "object_position": null,
            "order": null,
            "overflow": null,
            "overflow_x": null,
            "overflow_y": null,
            "padding": null,
            "right": null,
            "top": null,
            "visibility": null,
            "width": null
          }
        },
        "c002bb8a3d314563a948b6efc5ebf093": {
          "model_module": "@jupyter-widgets/controls",
          "model_name": "DescriptionStyleModel",
          "model_module_version": "1.5.0",
          "state": {
            "_model_module": "@jupyter-widgets/controls",
            "_model_module_version": "1.5.0",
            "_model_name": "DescriptionStyleModel",
            "_view_count": null,
            "_view_module": "@jupyter-widgets/base",
            "_view_module_version": "1.2.0",
            "_view_name": "StyleView",
            "description_width": ""
          }
        }
      }
    }
  },
  "cells": [
    {
      "cell_type": "markdown",
      "source": [
        "# Great Expectations Task"
      ],
      "metadata": {
        "id": "S0KvgYslI64f"
      }
    },
    {
      "cell_type": "markdown",
      "source": [
        "## 1. Install Great Expectations Library\n"
      ],
      "metadata": {
        "id": "9R147FfXJG4F"
      }
    },
    {
      "cell_type": "code",
      "execution_count": 1,
      "metadata": {
        "id": "TGqDcWNh3Y_-",
        "collapsed": true,
        "colab": {
          "base_uri": "https://localhost:8080/"
        },
        "outputId": "c1bf7774-aae2-4125-e6e8-d6641134ee92"
      },
      "outputs": [
        {
          "output_type": "stream",
          "name": "stdout",
          "text": [
            "Requirement already satisfied: great_expectations in /usr/local/lib/python3.11/dist-packages (1.3.11)\n",
            "Requirement already satisfied: altair<5.0.0,>=4.2.1 in /usr/local/lib/python3.11/dist-packages (from great_expectations) (4.2.2)\n",
            "Requirement already satisfied: cryptography>=3.2 in /usr/local/lib/python3.11/dist-packages (from great_expectations) (43.0.3)\n",
            "Requirement already satisfied: jinja2>=3 in /usr/local/lib/python3.11/dist-packages (from great_expectations) (3.1.6)\n",
            "Requirement already satisfied: jsonschema>=2.5.1 in /usr/local/lib/python3.11/dist-packages (from great_expectations) (4.23.0)\n",
            "Requirement already satisfied: marshmallow<4.0.0,>=3.7.1 in /usr/local/lib/python3.11/dist-packages (from great_expectations) (3.26.1)\n",
            "Requirement already satisfied: mistune>=0.8.4 in /usr/local/lib/python3.11/dist-packages (from great_expectations) (3.1.3)\n",
            "Requirement already satisfied: packaging in /usr/local/lib/python3.11/dist-packages (from great_expectations) (24.2)\n",
            "Requirement already satisfied: posthog<4,>3 in /usr/local/lib/python3.11/dist-packages (from great_expectations) (3.21.0)\n",
            "Requirement already satisfied: pydantic>=1.10.7 in /usr/local/lib/python3.11/dist-packages (from great_expectations) (2.10.6)\n",
            "Requirement already satisfied: pyparsing>=2.4 in /usr/local/lib/python3.11/dist-packages (from great_expectations) (3.2.1)\n",
            "Requirement already satisfied: python-dateutil>=2.8.1 in /usr/local/lib/python3.11/dist-packages (from great_expectations) (2.8.2)\n",
            "Requirement already satisfied: requests>=2.20 in /usr/local/lib/python3.11/dist-packages (from great_expectations) (2.32.3)\n",
            "Requirement already satisfied: ruamel.yaml>=0.16 in /usr/local/lib/python3.11/dist-packages (from great_expectations) (0.18.10)\n",
            "Requirement already satisfied: scipy>=1.6.0 in /usr/local/lib/python3.11/dist-packages (from great_expectations) (1.14.1)\n",
            "Requirement already satisfied: tqdm>=4.59.0 in /usr/local/lib/python3.11/dist-packages (from great_expectations) (4.67.1)\n",
            "Requirement already satisfied: typing-extensions>=4.1.0 in /usr/local/lib/python3.11/dist-packages (from great_expectations) (4.12.2)\n",
            "Requirement already satisfied: tzlocal>=1.2 in /usr/local/lib/python3.11/dist-packages (from great_expectations) (5.3.1)\n",
            "Requirement already satisfied: numpy>=1.22.4 in /usr/local/lib/python3.11/dist-packages (from great_expectations) (1.26.4)\n",
            "Requirement already satisfied: pandas<2.2,>=1.3.0 in /usr/local/lib/python3.11/dist-packages (from great_expectations) (2.1.4)\n",
            "Requirement already satisfied: entrypoints in /usr/local/lib/python3.11/dist-packages (from altair<5.0.0,>=4.2.1->great_expectations) (0.4)\n",
            "Requirement already satisfied: toolz in /usr/local/lib/python3.11/dist-packages (from altair<5.0.0,>=4.2.1->great_expectations) (0.12.1)\n",
            "Requirement already satisfied: cffi>=1.12 in /usr/local/lib/python3.11/dist-packages (from cryptography>=3.2->great_expectations) (1.17.1)\n",
            "Requirement already satisfied: MarkupSafe>=2.0 in /usr/local/lib/python3.11/dist-packages (from jinja2>=3->great_expectations) (3.0.2)\n",
            "Requirement already satisfied: attrs>=22.2.0 in /usr/local/lib/python3.11/dist-packages (from jsonschema>=2.5.1->great_expectations) (25.3.0)\n",
            "Requirement already satisfied: jsonschema-specifications>=2023.03.6 in /usr/local/lib/python3.11/dist-packages (from jsonschema>=2.5.1->great_expectations) (2024.10.1)\n",
            "Requirement already satisfied: referencing>=0.28.4 in /usr/local/lib/python3.11/dist-packages (from jsonschema>=2.5.1->great_expectations) (0.36.2)\n",
            "Requirement already satisfied: rpds-py>=0.7.1 in /usr/local/lib/python3.11/dist-packages (from jsonschema>=2.5.1->great_expectations) (0.23.1)\n",
            "Requirement already satisfied: pytz>=2020.1 in /usr/local/lib/python3.11/dist-packages (from pandas<2.2,>=1.3.0->great_expectations) (2025.1)\n",
            "Requirement already satisfied: tzdata>=2022.1 in /usr/local/lib/python3.11/dist-packages (from pandas<2.2,>=1.3.0->great_expectations) (2025.1)\n",
            "Requirement already satisfied: six>=1.5 in /usr/local/lib/python3.11/dist-packages (from posthog<4,>3->great_expectations) (1.17.0)\n",
            "Requirement already satisfied: monotonic>=1.5 in /usr/local/lib/python3.11/dist-packages (from posthog<4,>3->great_expectations) (1.6)\n",
            "Requirement already satisfied: backoff>=1.10.0 in /usr/local/lib/python3.11/dist-packages (from posthog<4,>3->great_expectations) (2.2.1)\n",
            "Requirement already satisfied: distro>=1.5.0 in /usr/local/lib/python3.11/dist-packages (from posthog<4,>3->great_expectations) (1.9.0)\n",
            "Requirement already satisfied: annotated-types>=0.6.0 in /usr/local/lib/python3.11/dist-packages (from pydantic>=1.10.7->great_expectations) (0.7.0)\n",
            "Requirement already satisfied: pydantic-core==2.27.2 in /usr/local/lib/python3.11/dist-packages (from pydantic>=1.10.7->great_expectations) (2.27.2)\n",
            "Requirement already satisfied: charset-normalizer<4,>=2 in /usr/local/lib/python3.11/dist-packages (from requests>=2.20->great_expectations) (3.4.1)\n",
            "Requirement already satisfied: idna<4,>=2.5 in /usr/local/lib/python3.11/dist-packages (from requests>=2.20->great_expectations) (3.10)\n",
            "Requirement already satisfied: urllib3<3,>=1.21.1 in /usr/local/lib/python3.11/dist-packages (from requests>=2.20->great_expectations) (2.3.0)\n",
            "Requirement already satisfied: certifi>=2017.4.17 in /usr/local/lib/python3.11/dist-packages (from requests>=2.20->great_expectations) (2025.1.31)\n",
            "Requirement already satisfied: ruamel.yaml.clib>=0.2.7 in /usr/local/lib/python3.11/dist-packages (from ruamel.yaml>=0.16->great_expectations) (0.2.12)\n",
            "Requirement already satisfied: pycparser in /usr/local/lib/python3.11/dist-packages (from cffi>=1.12->cryptography>=3.2->great_expectations) (2.22)\n"
          ]
        }
      ],
      "source": [
        "!pip install great_expectations"
      ]
    },
    {
      "cell_type": "markdown",
      "source": [
        "##2. Import Necessary Libraries"
      ],
      "metadata": {
        "id": "fWSO9h40JZjg"
      }
    },
    {
      "cell_type": "code",
      "source": [
        "import pandas as pd\n",
        "import great_expectations as gx"
      ],
      "metadata": {
        "id": "77qWdq8yVVEl",
        "collapsed": true
      },
      "execution_count": 2,
      "outputs": []
    },
    {
      "cell_type": "markdown",
      "source": [
        "##3. Load Labels.csv"
      ],
      "metadata": {
        "id": "Fdt5KucDJu-h"
      }
    },
    {
      "cell_type": "markdown",
      "source": [
        "Download and upload the [Labels.csv](https://github.com/zubxxr/SOFE3980U-Lab5/blob/main/Labels.csv) into this notebook, and then load the file."
      ],
      "metadata": {
        "id": "pP3MW4uUhwAR"
      }
    },
    {
      "cell_type": "code",
      "source": [
        "# Write code here\n",
        "df = pd.read_csv('Labels.csv')"
      ],
      "metadata": {
        "id": "ogHUyzFKdS5z"
      },
      "execution_count": 5,
      "outputs": []
    },
    {
      "cell_type": "markdown",
      "source": [
        "##4. Preview the Dataset"
      ],
      "metadata": {
        "id": "2BCIXXwdJyS7"
      }
    },
    {
      "cell_type": "code",
      "source": [
        "df.head()"
      ],
      "metadata": {
        "id": "OXpbbmRsVj0k",
        "colab": {
          "base_uri": "https://localhost:8080/",
          "height": 226
        },
        "outputId": "da86390f-9bd3-4327-bfa9-c4484de273b5"
      },
      "execution_count": 6,
      "outputs": [
        {
          "output_type": "execute_result",
          "data": {
            "text/plain": [
              "    Timestamp  Car1_Location_X  Car1_Location_Y  Car1_Location_Z  \\\n",
              "0  1736796157       -51.402977              143         0.596902   \n",
              "1  1736796167       -53.819637              143         0.596902   \n",
              "2  1736796178       -50.239144              143         0.596902   \n",
              "3  1736796188       -53.707220              143         0.596902   \n",
              "4  1736796198       -52.053721              143         0.596902   \n",
              "\n",
              "   Car2_Location_X  Car2_Location_Y  Car2_Location_Z Occluded_Image_view  \\\n",
              "0       -59.320270              140         0.596902           A_001.png   \n",
              "1       -59.196568              140         0.596902           A_002.png   \n",
              "2       -56.744479              140         0.596902           A_003.png   \n",
              "3       -57.309380              140         0.596902           A_004.png   \n",
              "4       -59.545897              140         0.596902           A_005.png   \n",
              "\n",
              "  Occluding_Car_view Ground_Truth_View  pedestrianLocationX_TopLeft  \\\n",
              "0          B_001.png         C_001.png                          593   \n",
              "1          B_002.png         C_002.png                          579   \n",
              "2          B_003.png         C_003.png                          854   \n",
              "3          B_004.png         C_004.png                          549   \n",
              "4          B_005.png         C_005.png                          524   \n",
              "\n",
              "   pedestrianLocationY_TopLeft  pedestrianLocationX_BottomRight  \\\n",
              "0                          361                              610   \n",
              "1                          368                              594   \n",
              "2                          720                              854   \n",
              "3                          368                              567   \n",
              "4                          368                              537   \n",
              "\n",
              "   pedestrianLocationY_BottomRight  \n",
              "0                              410  \n",
              "1                              415  \n",
              "2                              720  \n",
              "3                              425  \n",
              "4                              413  "
            ],
            "text/html": [
              "\n",
              "  <div id=\"df-415c4cc3-1338-4a71-aaf9-8f2ea2a9b995\" class=\"colab-df-container\">\n",
              "    <div>\n",
              "<style scoped>\n",
              "    .dataframe tbody tr th:only-of-type {\n",
              "        vertical-align: middle;\n",
              "    }\n",
              "\n",
              "    .dataframe tbody tr th {\n",
              "        vertical-align: top;\n",
              "    }\n",
              "\n",
              "    .dataframe thead th {\n",
              "        text-align: right;\n",
              "    }\n",
              "</style>\n",
              "<table border=\"1\" class=\"dataframe\">\n",
              "  <thead>\n",
              "    <tr style=\"text-align: right;\">\n",
              "      <th></th>\n",
              "      <th>Timestamp</th>\n",
              "      <th>Car1_Location_X</th>\n",
              "      <th>Car1_Location_Y</th>\n",
              "      <th>Car1_Location_Z</th>\n",
              "      <th>Car2_Location_X</th>\n",
              "      <th>Car2_Location_Y</th>\n",
              "      <th>Car2_Location_Z</th>\n",
              "      <th>Occluded_Image_view</th>\n",
              "      <th>Occluding_Car_view</th>\n",
              "      <th>Ground_Truth_View</th>\n",
              "      <th>pedestrianLocationX_TopLeft</th>\n",
              "      <th>pedestrianLocationY_TopLeft</th>\n",
              "      <th>pedestrianLocationX_BottomRight</th>\n",
              "      <th>pedestrianLocationY_BottomRight</th>\n",
              "    </tr>\n",
              "  </thead>\n",
              "  <tbody>\n",
              "    <tr>\n",
              "      <th>0</th>\n",
              "      <td>1736796157</td>\n",
              "      <td>-51.402977</td>\n",
              "      <td>143</td>\n",
              "      <td>0.596902</td>\n",
              "      <td>-59.320270</td>\n",
              "      <td>140</td>\n",
              "      <td>0.596902</td>\n",
              "      <td>A_001.png</td>\n",
              "      <td>B_001.png</td>\n",
              "      <td>C_001.png</td>\n",
              "      <td>593</td>\n",
              "      <td>361</td>\n",
              "      <td>610</td>\n",
              "      <td>410</td>\n",
              "    </tr>\n",
              "    <tr>\n",
              "      <th>1</th>\n",
              "      <td>1736796167</td>\n",
              "      <td>-53.819637</td>\n",
              "      <td>143</td>\n",
              "      <td>0.596902</td>\n",
              "      <td>-59.196568</td>\n",
              "      <td>140</td>\n",
              "      <td>0.596902</td>\n",
              "      <td>A_002.png</td>\n",
              "      <td>B_002.png</td>\n",
              "      <td>C_002.png</td>\n",
              "      <td>579</td>\n",
              "      <td>368</td>\n",
              "      <td>594</td>\n",
              "      <td>415</td>\n",
              "    </tr>\n",
              "    <tr>\n",
              "      <th>2</th>\n",
              "      <td>1736796178</td>\n",
              "      <td>-50.239144</td>\n",
              "      <td>143</td>\n",
              "      <td>0.596902</td>\n",
              "      <td>-56.744479</td>\n",
              "      <td>140</td>\n",
              "      <td>0.596902</td>\n",
              "      <td>A_003.png</td>\n",
              "      <td>B_003.png</td>\n",
              "      <td>C_003.png</td>\n",
              "      <td>854</td>\n",
              "      <td>720</td>\n",
              "      <td>854</td>\n",
              "      <td>720</td>\n",
              "    </tr>\n",
              "    <tr>\n",
              "      <th>3</th>\n",
              "      <td>1736796188</td>\n",
              "      <td>-53.707220</td>\n",
              "      <td>143</td>\n",
              "      <td>0.596902</td>\n",
              "      <td>-57.309380</td>\n",
              "      <td>140</td>\n",
              "      <td>0.596902</td>\n",
              "      <td>A_004.png</td>\n",
              "      <td>B_004.png</td>\n",
              "      <td>C_004.png</td>\n",
              "      <td>549</td>\n",
              "      <td>368</td>\n",
              "      <td>567</td>\n",
              "      <td>425</td>\n",
              "    </tr>\n",
              "    <tr>\n",
              "      <th>4</th>\n",
              "      <td>1736796198</td>\n",
              "      <td>-52.053721</td>\n",
              "      <td>143</td>\n",
              "      <td>0.596902</td>\n",
              "      <td>-59.545897</td>\n",
              "      <td>140</td>\n",
              "      <td>0.596902</td>\n",
              "      <td>A_005.png</td>\n",
              "      <td>B_005.png</td>\n",
              "      <td>C_005.png</td>\n",
              "      <td>524</td>\n",
              "      <td>368</td>\n",
              "      <td>537</td>\n",
              "      <td>413</td>\n",
              "    </tr>\n",
              "  </tbody>\n",
              "</table>\n",
              "</div>\n",
              "    <div class=\"colab-df-buttons\">\n",
              "\n",
              "  <div class=\"colab-df-container\">\n",
              "    <button class=\"colab-df-convert\" onclick=\"convertToInteractive('df-415c4cc3-1338-4a71-aaf9-8f2ea2a9b995')\"\n",
              "            title=\"Convert this dataframe to an interactive table.\"\n",
              "            style=\"display:none;\">\n",
              "\n",
              "  <svg xmlns=\"http://www.w3.org/2000/svg\" height=\"24px\" viewBox=\"0 -960 960 960\">\n",
              "    <path d=\"M120-120v-720h720v720H120Zm60-500h600v-160H180v160Zm220 220h160v-160H400v160Zm0 220h160v-160H400v160ZM180-400h160v-160H180v160Zm440 0h160v-160H620v160ZM180-180h160v-160H180v160Zm440 0h160v-160H620v160Z\"/>\n",
              "  </svg>\n",
              "    </button>\n",
              "\n",
              "  <style>\n",
              "    .colab-df-container {\n",
              "      display:flex;\n",
              "      gap: 12px;\n",
              "    }\n",
              "\n",
              "    .colab-df-convert {\n",
              "      background-color: #E8F0FE;\n",
              "      border: none;\n",
              "      border-radius: 50%;\n",
              "      cursor: pointer;\n",
              "      display: none;\n",
              "      fill: #1967D2;\n",
              "      height: 32px;\n",
              "      padding: 0 0 0 0;\n",
              "      width: 32px;\n",
              "    }\n",
              "\n",
              "    .colab-df-convert:hover {\n",
              "      background-color: #E2EBFA;\n",
              "      box-shadow: 0px 1px 2px rgba(60, 64, 67, 0.3), 0px 1px 3px 1px rgba(60, 64, 67, 0.15);\n",
              "      fill: #174EA6;\n",
              "    }\n",
              "\n",
              "    .colab-df-buttons div {\n",
              "      margin-bottom: 4px;\n",
              "    }\n",
              "\n",
              "    [theme=dark] .colab-df-convert {\n",
              "      background-color: #3B4455;\n",
              "      fill: #D2E3FC;\n",
              "    }\n",
              "\n",
              "    [theme=dark] .colab-df-convert:hover {\n",
              "      background-color: #434B5C;\n",
              "      box-shadow: 0px 1px 3px 1px rgba(0, 0, 0, 0.15);\n",
              "      filter: drop-shadow(0px 1px 2px rgba(0, 0, 0, 0.3));\n",
              "      fill: #FFFFFF;\n",
              "    }\n",
              "  </style>\n",
              "\n",
              "    <script>\n",
              "      const buttonEl =\n",
              "        document.querySelector('#df-415c4cc3-1338-4a71-aaf9-8f2ea2a9b995 button.colab-df-convert');\n",
              "      buttonEl.style.display =\n",
              "        google.colab.kernel.accessAllowed ? 'block' : 'none';\n",
              "\n",
              "      async function convertToInteractive(key) {\n",
              "        const element = document.querySelector('#df-415c4cc3-1338-4a71-aaf9-8f2ea2a9b995');\n",
              "        const dataTable =\n",
              "          await google.colab.kernel.invokeFunction('convertToInteractive',\n",
              "                                                    [key], {});\n",
              "        if (!dataTable) return;\n",
              "\n",
              "        const docLinkHtml = 'Like what you see? Visit the ' +\n",
              "          '<a target=\"_blank\" href=https://colab.research.google.com/notebooks/data_table.ipynb>data table notebook</a>'\n",
              "          + ' to learn more about interactive tables.';\n",
              "        element.innerHTML = '';\n",
              "        dataTable['output_type'] = 'display_data';\n",
              "        await google.colab.output.renderOutput(dataTable, element);\n",
              "        const docLink = document.createElement('div');\n",
              "        docLink.innerHTML = docLinkHtml;\n",
              "        element.appendChild(docLink);\n",
              "      }\n",
              "    </script>\n",
              "  </div>\n",
              "\n",
              "\n",
              "<div id=\"df-05998794-ae2a-433d-9b17-9cba8ffc56dc\">\n",
              "  <button class=\"colab-df-quickchart\" onclick=\"quickchart('df-05998794-ae2a-433d-9b17-9cba8ffc56dc')\"\n",
              "            title=\"Suggest charts\"\n",
              "            style=\"display:none;\">\n",
              "\n",
              "<svg xmlns=\"http://www.w3.org/2000/svg\" height=\"24px\"viewBox=\"0 0 24 24\"\n",
              "     width=\"24px\">\n",
              "    <g>\n",
              "        <path d=\"M19 3H5c-1.1 0-2 .9-2 2v14c0 1.1.9 2 2 2h14c1.1 0 2-.9 2-2V5c0-1.1-.9-2-2-2zM9 17H7v-7h2v7zm4 0h-2V7h2v10zm4 0h-2v-4h2v4z\"/>\n",
              "    </g>\n",
              "</svg>\n",
              "  </button>\n",
              "\n",
              "<style>\n",
              "  .colab-df-quickchart {\n",
              "      --bg-color: #E8F0FE;\n",
              "      --fill-color: #1967D2;\n",
              "      --hover-bg-color: #E2EBFA;\n",
              "      --hover-fill-color: #174EA6;\n",
              "      --disabled-fill-color: #AAA;\n",
              "      --disabled-bg-color: #DDD;\n",
              "  }\n",
              "\n",
              "  [theme=dark] .colab-df-quickchart {\n",
              "      --bg-color: #3B4455;\n",
              "      --fill-color: #D2E3FC;\n",
              "      --hover-bg-color: #434B5C;\n",
              "      --hover-fill-color: #FFFFFF;\n",
              "      --disabled-bg-color: #3B4455;\n",
              "      --disabled-fill-color: #666;\n",
              "  }\n",
              "\n",
              "  .colab-df-quickchart {\n",
              "    background-color: var(--bg-color);\n",
              "    border: none;\n",
              "    border-radius: 50%;\n",
              "    cursor: pointer;\n",
              "    display: none;\n",
              "    fill: var(--fill-color);\n",
              "    height: 32px;\n",
              "    padding: 0;\n",
              "    width: 32px;\n",
              "  }\n",
              "\n",
              "  .colab-df-quickchart:hover {\n",
              "    background-color: var(--hover-bg-color);\n",
              "    box-shadow: 0 1px 2px rgba(60, 64, 67, 0.3), 0 1px 3px 1px rgba(60, 64, 67, 0.15);\n",
              "    fill: var(--button-hover-fill-color);\n",
              "  }\n",
              "\n",
              "  .colab-df-quickchart-complete:disabled,\n",
              "  .colab-df-quickchart-complete:disabled:hover {\n",
              "    background-color: var(--disabled-bg-color);\n",
              "    fill: var(--disabled-fill-color);\n",
              "    box-shadow: none;\n",
              "  }\n",
              "\n",
              "  .colab-df-spinner {\n",
              "    border: 2px solid var(--fill-color);\n",
              "    border-color: transparent;\n",
              "    border-bottom-color: var(--fill-color);\n",
              "    animation:\n",
              "      spin 1s steps(1) infinite;\n",
              "  }\n",
              "\n",
              "  @keyframes spin {\n",
              "    0% {\n",
              "      border-color: transparent;\n",
              "      border-bottom-color: var(--fill-color);\n",
              "      border-left-color: var(--fill-color);\n",
              "    }\n",
              "    20% {\n",
              "      border-color: transparent;\n",
              "      border-left-color: var(--fill-color);\n",
              "      border-top-color: var(--fill-color);\n",
              "    }\n",
              "    30% {\n",
              "      border-color: transparent;\n",
              "      border-left-color: var(--fill-color);\n",
              "      border-top-color: var(--fill-color);\n",
              "      border-right-color: var(--fill-color);\n",
              "    }\n",
              "    40% {\n",
              "      border-color: transparent;\n",
              "      border-right-color: var(--fill-color);\n",
              "      border-top-color: var(--fill-color);\n",
              "    }\n",
              "    60% {\n",
              "      border-color: transparent;\n",
              "      border-right-color: var(--fill-color);\n",
              "    }\n",
              "    80% {\n",
              "      border-color: transparent;\n",
              "      border-right-color: var(--fill-color);\n",
              "      border-bottom-color: var(--fill-color);\n",
              "    }\n",
              "    90% {\n",
              "      border-color: transparent;\n",
              "      border-bottom-color: var(--fill-color);\n",
              "    }\n",
              "  }\n",
              "</style>\n",
              "\n",
              "  <script>\n",
              "    async function quickchart(key) {\n",
              "      const quickchartButtonEl =\n",
              "        document.querySelector('#' + key + ' button');\n",
              "      quickchartButtonEl.disabled = true;  // To prevent multiple clicks.\n",
              "      quickchartButtonEl.classList.add('colab-df-spinner');\n",
              "      try {\n",
              "        const charts = await google.colab.kernel.invokeFunction(\n",
              "            'suggestCharts', [key], {});\n",
              "      } catch (error) {\n",
              "        console.error('Error during call to suggestCharts:', error);\n",
              "      }\n",
              "      quickchartButtonEl.classList.remove('colab-df-spinner');\n",
              "      quickchartButtonEl.classList.add('colab-df-quickchart-complete');\n",
              "    }\n",
              "    (() => {\n",
              "      let quickchartButtonEl =\n",
              "        document.querySelector('#df-05998794-ae2a-433d-9b17-9cba8ffc56dc button');\n",
              "      quickchartButtonEl.style.display =\n",
              "        google.colab.kernel.accessAllowed ? 'block' : 'none';\n",
              "    })();\n",
              "  </script>\n",
              "</div>\n",
              "\n",
              "    </div>\n",
              "  </div>\n"
            ],
            "application/vnd.google.colaboratory.intrinsic+json": {
              "type": "dataframe",
              "variable_name": "df",
              "summary": "{\n  \"name\": \"df\",\n  \"rows\": 121,\n  \"fields\": [\n    {\n      \"column\": \"Timestamp\",\n      \"properties\": {\n        \"dtype\": \"number\",\n        \"std\": 537,\n        \"min\": 1736796157,\n        \"max\": 1736797850,\n        \"num_unique_values\": 121,\n        \"samples\": [\n          1736796637,\n          1736796674,\n          1736796198\n        ],\n        \"semantic_type\": \"\",\n        \"description\": \"\"\n      }\n    },\n    {\n      \"column\": \"Car1_Location_X\",\n      \"properties\": {\n        \"dtype\": \"number\",\n        \"std\": 1.2222385688529998,\n        \"min\": -53.99290223,\n        \"max\": -50.01929523,\n        \"num_unique_values\": 121,\n        \"samples\": [\n          -52.65094267,\n          -50.30896791,\n          -52.05372109\n        ],\n        \"semantic_type\": \"\",\n        \"description\": \"\"\n      }\n    },\n    {\n      \"column\": \"Car1_Location_Y\",\n      \"properties\": {\n        \"dtype\": \"number\",\n        \"std\": 0,\n        \"min\": 143,\n        \"max\": 143,\n        \"num_unique_values\": 1,\n        \"samples\": [\n          143\n        ],\n        \"semantic_type\": \"\",\n        \"description\": \"\"\n      }\n    },\n    {\n      \"column\": \"Car1_Location_Z\",\n      \"properties\": {\n        \"dtype\": \"number\",\n        \"std\": 0.0,\n        \"min\": 0.596902,\n        \"max\": 0.596902,\n        \"num_unique_values\": 1,\n        \"samples\": [\n          0.596902\n        ],\n        \"semantic_type\": \"\",\n        \"description\": \"\"\n      }\n    },\n    {\n      \"column\": \"Car2_Location_X\",\n      \"properties\": {\n        \"dtype\": \"number\",\n        \"std\": 1.7756563170459483,\n        \"min\": -59.9582375,\n        \"max\": -54.03136206,\n        \"num_unique_values\": 121,\n        \"samples\": [\n          -56.73126517\n        ],\n        \"semantic_type\": \"\",\n        \"description\": \"\"\n      }\n    },\n    {\n      \"column\": \"Car2_Location_Y\",\n      \"properties\": {\n        \"dtype\": \"number\",\n        \"std\": 0,\n        \"min\": 140,\n        \"max\": 140,\n        \"num_unique_values\": 1,\n        \"samples\": [\n          140\n        ],\n        \"semantic_type\": \"\",\n        \"description\": \"\"\n      }\n    },\n    {\n      \"column\": \"Car2_Location_Z\",\n      \"properties\": {\n        \"dtype\": \"number\",\n        \"std\": 0.0,\n        \"min\": 0.596902,\n        \"max\": 0.596902,\n        \"num_unique_values\": 1,\n        \"samples\": [\n          0.596902\n        ],\n        \"semantic_type\": \"\",\n        \"description\": \"\"\n      }\n    },\n    {\n      \"column\": \"Occluded_Image_view\",\n      \"properties\": {\n        \"dtype\": \"string\",\n        \"num_unique_values\": 120,\n        \"samples\": [\n          \"A_045.png\"\n        ],\n        \"semantic_type\": \"\",\n        \"description\": \"\"\n      }\n    },\n    {\n      \"column\": \"Occluding_Car_view\",\n      \"properties\": {\n        \"dtype\": \"string\",\n        \"num_unique_values\": 120,\n        \"samples\": [\n          \"B_045.png\"\n        ],\n        \"semantic_type\": \"\",\n        \"description\": \"\"\n      }\n    },\n    {\n      \"column\": \"Ground_Truth_View\",\n      \"properties\": {\n        \"dtype\": \"string\",\n        \"num_unique_values\": 120,\n        \"samples\": [\n          \"C_045.png\"\n        ],\n        \"semantic_type\": \"\",\n        \"description\": \"\"\n      }\n    },\n    {\n      \"column\": \"pedestrianLocationX_TopLeft\",\n      \"properties\": {\n        \"dtype\": \"number\",\n        \"std\": 55,\n        \"min\": 522,\n        \"max\": 854,\n        \"num_unique_values\": 75,\n        \"samples\": [\n          524\n        ],\n        \"semantic_type\": \"\",\n        \"description\": \"\"\n      }\n    },\n    {\n      \"column\": \"pedestrianLocationY_TopLeft\",\n      \"properties\": {\n        \"dtype\": \"number\",\n        \"std\": 44,\n        \"min\": 361,\n        \"max\": 720,\n        \"num_unique_values\": 15,\n        \"samples\": [\n          367\n        ],\n        \"semantic_type\": \"\",\n        \"description\": \"\"\n      }\n    },\n    {\n      \"column\": \"pedestrianLocationX_BottomRight\",\n      \"properties\": {\n        \"dtype\": \"number\",\n        \"std\": 52,\n        \"min\": 533,\n        \"max\": 854,\n        \"num_unique_values\": 84,\n        \"samples\": [\n          676\n        ],\n        \"semantic_type\": \"\",\n        \"description\": \"\"\n      }\n    },\n    {\n      \"column\": \"pedestrianLocationY_BottomRight\",\n      \"properties\": {\n        \"dtype\": \"number\",\n        \"std\": 29,\n        \"min\": 408,\n        \"max\": 720,\n        \"num_unique_values\": 45,\n        \"samples\": [\n          458\n        ],\n        \"semantic_type\": \"\",\n        \"description\": \"\"\n      }\n    }\n  ]\n}"
            }
          },
          "metadata": {},
          "execution_count": 6
        }
      ]
    },
    {
      "cell_type": "markdown",
      "source": [
        "##5. Set Up Great Expectations Context and Data Source"
      ],
      "metadata": {
        "id": "WwljyFlFJ1A8"
      }
    },
    {
      "cell_type": "code",
      "source": [
        "# Write code here\n",
        "context = gx.get_context()\n",
        "data_source = context.data_sources.add_pandas(\"pandas\")\n",
        "data_asset = data_source.add_dataframe_asset(name=\"pd dataframe asset\")\n"
      ],
      "metadata": {
        "id": "SxSmTGmZVk5U",
        "colab": {
          "base_uri": "https://localhost:8080/"
        },
        "outputId": "d8cfbdca-60e3-462d-9cbc-7dab18ad29a9"
      },
      "execution_count": 11,
      "outputs": [
        {
          "output_type": "stream",
          "name": "stderr",
          "text": [
            "INFO:great_expectations.data_context.types.base:Created temporary directory '/tmp/tmpuv48857t' for ephemeral docs site\n"
          ]
        }
      ]
    },
    {
      "cell_type": "markdown",
      "source": [
        "##6. Define and Create a Data Batch"
      ],
      "metadata": {
        "id": "IHl4W07zJ5-A"
      }
    },
    {
      "cell_type": "code",
      "source": [
        "# Write code here\n",
        "batch_definition = data_asset.add_batch_definition_whole_dataframe(\"batch definition\")\n",
        "batch = batch_definition.get_batch(batch_parameters={\"dataframe\": df})"
      ],
      "metadata": {
        "id": "dTdpe1tVhpgp"
      },
      "execution_count": 15,
      "outputs": []
    },
    {
      "cell_type": "markdown",
      "source": [
        "##7. Define Three Expectations for Column Values"
      ],
      "metadata": {
        "id": "JhVlKGYXJ8Tf"
      }
    },
    {
      "cell_type": "markdown",
      "source": [
        "Using this [link](https://greatexpectations.io/expectations/), choose three expectation functions and apply them to the labels dataset in a relevant manner.\n",
        "\n",
        "You should replace the 'ExpectColumnValuesToBeBetween' function with other functions you select from the link.\n",
        "\n",
        "You can also check the format/parameters required of each function when you click \"See more\" on the function."
      ],
      "metadata": {
        "id": "8ixvqF3OYnlt"
      }
    },
    {
      "cell_type": "code",
      "source": [
        "## Original Function\n",
        "expectation = gx.expectations.ExpectColumnValuesToBeBetween(\n",
        "    column=\"column\", min_value=0, max_value=20\n",
        ")\n",
        "\n",
        "## Example Function\n",
        "\n",
        "## This function only requires a column parameter, and not a max or min value\n",
        "expectation = gx.expectations.ExpectColumnValuesToBeUnique(\n",
        "    column=\"column\"\n",
        ")"
      ],
      "metadata": {
        "id": "O2JMz9pScU6n"
      },
      "execution_count": 16,
      "outputs": []
    },
    {
      "cell_type": "markdown",
      "source": [
        "### Expectation 1"
      ],
      "metadata": {
        "id": "gaIvn5Y-Mazw"
      }
    },
    {
      "cell_type": "code",
      "source": [
        "# Write code here\n",
        "expectation = gx.expectations.ExpectColumnToExist(\n",
        "    column=\"Timestamp\"\n",
        ")"
      ],
      "metadata": {
        "id": "PJw-qrNyhsIX"
      },
      "execution_count": 17,
      "outputs": []
    },
    {
      "cell_type": "markdown",
      "source": [
        "### Validate Data Against Expectation 1"
      ],
      "metadata": {
        "id": "iaWGD8GL8jSA"
      }
    },
    {
      "cell_type": "code",
      "source": [
        "# Write code here\n",
        "validation_result = batch.validate(expectation)\n",
        "print(validation_result)"
      ],
      "metadata": {
        "id": "zE_iE0yr8k9y",
        "colab": {
          "base_uri": "https://localhost:8080/",
          "height": 361,
          "referenced_widgets": [
            "b6aebc623c6a4420a105b7db241ddf8e",
            "68713c55ab574673ace34576a7670db4",
            "4ae2250e31124dd4b64de3de9c8b0f66",
            "3aa71d9dd1744d0cae4d7f6de0fbc075",
            "e0728c7dbc8646eb88ae3bc9144311ac",
            "206bdd6dbee24df3bf67db77367d76f3",
            "ab65d81683c947cab96a88f5521cc192",
            "87dcac2711f8415890e21bd2d8913f99",
            "e1844ee2a1114a88aed8a5d17196c4ee",
            "cbbe453c994c48e79400c347d2c9f27e",
            "a359c84dea9840c4aa987140fb0ced00"
          ]
        },
        "outputId": "7269cd3e-53c4-4459-d3fd-113c8714a0b3"
      },
      "execution_count": 18,
      "outputs": [
        {
          "output_type": "display_data",
          "data": {
            "text/plain": [
              "Calculating Metrics:   0%|          | 0/2 [00:00<?, ?it/s]"
            ],
            "application/vnd.jupyter.widget-view+json": {
              "version_major": 2,
              "version_minor": 0,
              "model_id": "b6aebc623c6a4420a105b7db241ddf8e"
            }
          },
          "metadata": {}
        },
        {
          "output_type": "stream",
          "name": "stdout",
          "text": [
            "{\n",
            "  \"success\": true,\n",
            "  \"expectation_config\": {\n",
            "    \"type\": \"expect_column_to_exist\",\n",
            "    \"kwargs\": {\n",
            "      \"batch_id\": \"pandas-pd dataframe asset\",\n",
            "      \"column\": \"Timestamp\"\n",
            "    },\n",
            "    \"meta\": {}\n",
            "  },\n",
            "  \"result\": {},\n",
            "  \"meta\": {},\n",
            "  \"exception_info\": {\n",
            "    \"raised_exception\": false,\n",
            "    \"exception_traceback\": null,\n",
            "    \"exception_message\": null\n",
            "  }\n",
            "}\n"
          ]
        }
      ]
    },
    {
      "cell_type": "markdown",
      "source": [
        "### Expectation 2"
      ],
      "metadata": {
        "id": "37TjcPpxYiMZ"
      }
    },
    {
      "cell_type": "code",
      "source": [
        "# Write code here\n",
        "expectation = gx.expectations.ExpectColumnValueLengthsToEqual(\n",
        "    column=\"Timestamp\",\n",
        "    value=10\n",
        ")"
      ],
      "metadata": {
        "id": "duJPbIxoYfNc"
      },
      "execution_count": 19,
      "outputs": []
    },
    {
      "cell_type": "markdown",
      "source": [
        "### Validate Data Against Expectation 2"
      ],
      "metadata": {
        "id": "rCO1JE2O8lcf"
      }
    },
    {
      "cell_type": "code",
      "source": [
        "# Write code here\n",
        "validation_result = batch.validate(expectation)\n",
        "print(validation_result)"
      ],
      "metadata": {
        "id": "0HbLTxQJ8rXp",
        "colab": {
          "base_uri": "https://localhost:8080/",
          "height": 570,
          "referenced_widgets": [
            "cd3b930756fd4becaab6f3f5b11e210a",
            "12194eeb4058454a8043ef7546c07fe2",
            "c3e0fb197ef5418091ee626bff386867",
            "dfed61e5041f4ee2af832b80354123da",
            "7a8c036673b6482cbbe5c5e234a2dc8d",
            "9ce956100b2141ae894ba1f89fb499bf",
            "07757568386a4ae78e5929f87dbd3c36",
            "87571714ccec4ec2a8ae9a3788fd5dd5",
            "66d001e9394b4eaa80caf310dfc5bee4",
            "5ec10a769f664d57a8dd3d9bc18bbd57",
            "2545f78ddd1f44598981bd2571a4771f"
          ]
        },
        "outputId": "0f78efdf-a371-47db-aeb4-a4bf41597ba4"
      },
      "execution_count": 20,
      "outputs": [
        {
          "output_type": "display_data",
          "data": {
            "text/plain": [
              "Calculating Metrics:   0%|          | 0/11 [00:00<?, ?it/s]"
            ],
            "application/vnd.jupyter.widget-view+json": {
              "version_major": 2,
              "version_minor": 0,
              "model_id": "cd3b930756fd4becaab6f3f5b11e210a"
            }
          },
          "metadata": {}
        },
        {
          "output_type": "stream",
          "name": "stdout",
          "text": [
            "{\n",
            "  \"success\": true,\n",
            "  \"expectation_config\": {\n",
            "    \"type\": \"expect_column_value_lengths_to_equal\",\n",
            "    \"kwargs\": {\n",
            "      \"batch_id\": \"pandas-pd dataframe asset\",\n",
            "      \"column\": \"Timestamp\",\n",
            "      \"value\": 10.0\n",
            "    },\n",
            "    \"meta\": {}\n",
            "  },\n",
            "  \"result\": {\n",
            "    \"element_count\": 121,\n",
            "    \"unexpected_count\": 0,\n",
            "    \"unexpected_percent\": 0.0,\n",
            "    \"partial_unexpected_list\": [],\n",
            "    \"missing_count\": 0,\n",
            "    \"missing_percent\": 0.0,\n",
            "    \"unexpected_percent_total\": 0.0,\n",
            "    \"unexpected_percent_nonmissing\": 0.0,\n",
            "    \"partial_unexpected_counts\": [],\n",
            "    \"partial_unexpected_index_list\": []\n",
            "  },\n",
            "  \"meta\": {},\n",
            "  \"exception_info\": {\n",
            "    \"raised_exception\": false,\n",
            "    \"exception_traceback\": null,\n",
            "    \"exception_message\": null\n",
            "  }\n",
            "}\n"
          ]
        }
      ]
    },
    {
      "cell_type": "markdown",
      "source": [
        "### Expectation 3"
      ],
      "metadata": {
        "id": "JEJ28eyoYfra"
      }
    },
    {
      "cell_type": "code",
      "source": [
        "# Write code here\n",
        "expectation = gx.expectations.ExpectColumnValuesToNotBeNull(\n",
        "    column=\"Car2_Location_X\"\n",
        ")"
      ],
      "metadata": {
        "id": "tWFlN_hqYfkC"
      },
      "execution_count": 24,
      "outputs": []
    },
    {
      "cell_type": "markdown",
      "source": [
        "### Validate Data Against Expectation 3"
      ],
      "metadata": {
        "id": "D9rzavkK8mqM"
      }
    },
    {
      "cell_type": "code",
      "source": [
        "# Write code here\n",
        "validation_result = batch.validate(expectation)\n",
        "print(validation_result)"
      ],
      "metadata": {
        "id": "xGed5qns8om2",
        "colab": {
          "base_uri": "https://localhost:8080/",
          "height": 483,
          "referenced_widgets": [
            "7265df1c7c204361bff5e49033d62404",
            "ef7c4d7fdb40497ab54fba19761bbda3",
            "86cbcea08b00465284579886064513e0",
            "254509bfbb134ddfb51b5d47e5227b14",
            "fd890b210dda4ef1b9eab890cd150641",
            "09b825734dc443cf959ba699049c6f02",
            "84f9a9694b3048898b0addb6c6a67fed",
            "cc63e2053e614dcd9e57eb6718e35819",
            "2acce33328cd4041bbaab8f0e9745389",
            "7bea6a4997b04271824a99157d94b59a",
            "c002bb8a3d314563a948b6efc5ebf093"
          ]
        },
        "outputId": "6aad4478-0c71-439d-b64e-21d4bf8aa69e"
      },
      "execution_count": 25,
      "outputs": [
        {
          "output_type": "display_data",
          "data": {
            "text/plain": [
              "Calculating Metrics:   0%|          | 0/8 [00:00<?, ?it/s]"
            ],
            "application/vnd.jupyter.widget-view+json": {
              "version_major": 2,
              "version_minor": 0,
              "model_id": "7265df1c7c204361bff5e49033d62404"
            }
          },
          "metadata": {}
        },
        {
          "output_type": "stream",
          "name": "stdout",
          "text": [
            "{\n",
            "  \"success\": true,\n",
            "  \"expectation_config\": {\n",
            "    \"type\": \"expect_column_values_to_not_be_null\",\n",
            "    \"kwargs\": {\n",
            "      \"batch_id\": \"pandas-pd dataframe asset\",\n",
            "      \"column\": \"Car2_Location_X\"\n",
            "    },\n",
            "    \"meta\": {}\n",
            "  },\n",
            "  \"result\": {\n",
            "    \"element_count\": 121,\n",
            "    \"unexpected_count\": 0,\n",
            "    \"unexpected_percent\": 0.0,\n",
            "    \"partial_unexpected_list\": [],\n",
            "    \"partial_unexpected_counts\": [],\n",
            "    \"partial_unexpected_index_list\": []\n",
            "  },\n",
            "  \"meta\": {},\n",
            "  \"exception_info\": {\n",
            "    \"raised_exception\": false,\n",
            "    \"exception_traceback\": null,\n",
            "    \"exception_message\": null\n",
            "  }\n",
            "}\n"
          ]
        }
      ]
    }
  ]
}